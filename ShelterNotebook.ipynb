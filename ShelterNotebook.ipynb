{
 "cells": [
  {
   "cell_type": "code",
   "execution_count": 218,
   "metadata": {
    "collapsed": false
   },
   "outputs": [
    {
     "data": {
      "text/html": [
       "<div>\n",
       "<table border=\"1\" class=\"dataframe\">\n",
       "  <thead>\n",
       "    <tr style=\"text-align: right;\">\n",
       "      <th></th>\n",
       "      <th>AnimalID</th>\n",
       "      <th>AnimalType</th>\n",
       "      <th>AgeuponOutcome</th>\n",
       "      <th>Breed</th>\n",
       "      <th>Color</th>\n",
       "      <th>Sex</th>\n",
       "      <th>Neutered</th>\n",
       "      <th>Mix</th>\n",
       "    </tr>\n",
       "  </thead>\n",
       "  <tbody>\n",
       "    <tr>\n",
       "      <th>0</th>\n",
       "      <td>A671945</td>\n",
       "      <td>Dog</td>\n",
       "      <td>1.000000</td>\n",
       "      <td>Shetland Sheepdog Mix</td>\n",
       "      <td>Brown/White</td>\n",
       "      <td>male</td>\n",
       "      <td>neutered</td>\n",
       "      <td>mix</td>\n",
       "    </tr>\n",
       "    <tr>\n",
       "      <th>1</th>\n",
       "      <td>A656520</td>\n",
       "      <td>Cat</td>\n",
       "      <td>1.000000</td>\n",
       "      <td>Domestic Shorthair Mix</td>\n",
       "      <td>Cream Tabby</td>\n",
       "      <td>female</td>\n",
       "      <td>neutered</td>\n",
       "      <td>mix</td>\n",
       "    </tr>\n",
       "    <tr>\n",
       "      <th>2</th>\n",
       "      <td>A686464</td>\n",
       "      <td>Dog</td>\n",
       "      <td>2.000000</td>\n",
       "      <td>Pit Bull Mix</td>\n",
       "      <td>Blue/White</td>\n",
       "      <td>male</td>\n",
       "      <td>neutered</td>\n",
       "      <td>mix</td>\n",
       "    </tr>\n",
       "    <tr>\n",
       "      <th>3</th>\n",
       "      <td>A683430</td>\n",
       "      <td>Cat</td>\n",
       "      <td>0.057692</td>\n",
       "      <td>Domestic Shorthair Mix</td>\n",
       "      <td>Blue Cream</td>\n",
       "      <td>male</td>\n",
       "      <td>intact</td>\n",
       "      <td>mix</td>\n",
       "    </tr>\n",
       "    <tr>\n",
       "      <th>4</th>\n",
       "      <td>A667013</td>\n",
       "      <td>Dog</td>\n",
       "      <td>2.000000</td>\n",
       "      <td>Lhasa Apso/Miniature Poodle</td>\n",
       "      <td>Tan</td>\n",
       "      <td>male</td>\n",
       "      <td>neutered</td>\n",
       "      <td>not</td>\n",
       "    </tr>\n",
       "  </tbody>\n",
       "</table>\n",
       "</div>"
      ],
      "text/plain": [
       "  AnimalID AnimalType  AgeuponOutcome                        Breed  \\\n",
       "0  A671945        Dog        1.000000        Shetland Sheepdog Mix   \n",
       "1  A656520        Cat        1.000000       Domestic Shorthair Mix   \n",
       "2  A686464        Dog        2.000000                 Pit Bull Mix   \n",
       "3  A683430        Cat        0.057692       Domestic Shorthair Mix   \n",
       "4  A667013        Dog        2.000000  Lhasa Apso/Miniature Poodle   \n",
       "\n",
       "         Color     Sex  Neutered  Mix  \n",
       "0  Brown/White    male  neutered  mix  \n",
       "1  Cream Tabby  female  neutered  mix  \n",
       "2   Blue/White    male  neutered  mix  \n",
       "3   Blue Cream    male    intact  mix  \n",
       "4          Tan    male  neutered  not  "
      ]
     },
     "execution_count": 218,
     "metadata": {},
     "output_type": "execute_result"
    }
   ],
   "source": [
    "import pandas as pd\n",
    "'''import seaborn as sns\n",
    "import numpy as np'''\n",
    "from sklearn.cross_validation import train_test_split\n",
    "from sklearn.grid_search import GridSearchCV\n",
    "from sklearn.tree import DecisionTreeClassifier\n",
    "from sklearn.preprocessing import LabelEncoder, LabelBinarizer, Imputer, OneHotEncoder\n",
    "\n",
    "\n",
    "def get_sex(x):\n",
    "    x = str(x)\n",
    "    if x.find('Male') >= 0: return 'male'\n",
    "    if x.find('Female') >= 0: return 'female'\n",
    "    return 'unknown'\n",
    "\n",
    "def get_neutered(x):\n",
    "    x = str(x)\n",
    "    if x.find('Spayed') >= 0: return 'neutered'\n",
    "    if x.find('Neutered') >= 0: return 'neutered'\n",
    "    if x.find('Intact') >= 0: return 'intact'\n",
    "    return 'unknown'\n",
    "\n",
    "\n",
    "def get_mix(x):\n",
    "    x = str(x)\n",
    "    if x.find('Mix') >=0 :\n",
    "        return 'mix'\n",
    "    return 'not'\n",
    "\n",
    "def calc_age_in_years(x):\n",
    "    x = str(x)\n",
    "    if x == 'nan': return 0\n",
    "    age = int(x.split()[0]) # split with space, get number\n",
    "    if x.find('year')> -1: return age\n",
    "    if x.find('month')> -1: return age/12\n",
    "    if x.find('week') > -1 : return age/52\n",
    "    if x.find('day') > -1 : return age/365\n",
    "    else : return 0\n",
    "\n",
    "def prepareData(train):\n",
    "    train['Sex'] = train.SexuponOutcome.apply(get_sex)\n",
    "    train['Neutered'] = train.SexuponOutcome.apply(get_neutered)\n",
    "    train['Mix'] = train.Breed.apply(get_mix)\n",
    "    train['AgeuponOutcome'] = train.AgeuponOutcome.apply(calc_age_in_years)\n",
    "    return train\n",
    "\n",
    "\n",
    "train = pd.read_csv('train.csv')\n",
    "test = pd.read_csv('test.csv')\n",
    "\n",
    "\n",
    "train = prepareData(train)\n",
    "test = prepareData(test)\n",
    "\n",
    "y = train.OutcomeType\n",
    "train.drop([\"Name\", \"OutcomeType\", \"OutcomeSubtype\",\"SexuponOutcome\",\"DateTime\"], axis=1, inplace=True)\n",
    "test.drop([\"Name\", \"SexuponOutcome\",\"DateTime\"], axis=1, inplace=True)\n",
    "\n",
    "\n",
    "train.head()\n"
   ]
  },
  {
   "cell_type": "code",
   "execution_count": 219,
   "metadata": {
    "collapsed": false
   },
   "outputs": [
    {
     "data": {
      "text/html": [
       "<div>\n",
       "<table border=\"1\" class=\"dataframe\">\n",
       "  <thead>\n",
       "    <tr style=\"text-align: right;\">\n",
       "      <th></th>\n",
       "      <th>ID</th>\n",
       "      <th>AnimalType</th>\n",
       "      <th>AgeuponOutcome</th>\n",
       "      <th>Breed</th>\n",
       "      <th>Color</th>\n",
       "      <th>Sex</th>\n",
       "      <th>Neutered</th>\n",
       "      <th>Mix</th>\n",
       "    </tr>\n",
       "  </thead>\n",
       "  <tbody>\n",
       "    <tr>\n",
       "      <th>0</th>\n",
       "      <td>1</td>\n",
       "      <td>Dog</td>\n",
       "      <td>0.833333</td>\n",
       "      <td>Labrador Retriever Mix</td>\n",
       "      <td>Red/White</td>\n",
       "      <td>female</td>\n",
       "      <td>intact</td>\n",
       "      <td>mix</td>\n",
       "    </tr>\n",
       "    <tr>\n",
       "      <th>1</th>\n",
       "      <td>2</td>\n",
       "      <td>Dog</td>\n",
       "      <td>2.000000</td>\n",
       "      <td>German Shepherd/Siberian Husky</td>\n",
       "      <td>Black/Tan</td>\n",
       "      <td>female</td>\n",
       "      <td>neutered</td>\n",
       "      <td>not</td>\n",
       "    </tr>\n",
       "    <tr>\n",
       "      <th>2</th>\n",
       "      <td>3</td>\n",
       "      <td>Cat</td>\n",
       "      <td>1.000000</td>\n",
       "      <td>Domestic Shorthair Mix</td>\n",
       "      <td>Brown Tabby</td>\n",
       "      <td>male</td>\n",
       "      <td>neutered</td>\n",
       "      <td>mix</td>\n",
       "    </tr>\n",
       "    <tr>\n",
       "      <th>3</th>\n",
       "      <td>4</td>\n",
       "      <td>Dog</td>\n",
       "      <td>0.333333</td>\n",
       "      <td>Collie Smooth Mix</td>\n",
       "      <td>Tricolor</td>\n",
       "      <td>male</td>\n",
       "      <td>intact</td>\n",
       "      <td>mix</td>\n",
       "    </tr>\n",
       "    <tr>\n",
       "      <th>4</th>\n",
       "      <td>5</td>\n",
       "      <td>Dog</td>\n",
       "      <td>2.000000</td>\n",
       "      <td>Miniature Poodle Mix</td>\n",
       "      <td>White</td>\n",
       "      <td>male</td>\n",
       "      <td>neutered</td>\n",
       "      <td>mix</td>\n",
       "    </tr>\n",
       "  </tbody>\n",
       "</table>\n",
       "</div>"
      ],
      "text/plain": [
       "   ID AnimalType  AgeuponOutcome                           Breed        Color  \\\n",
       "0   1        Dog        0.833333          Labrador Retriever Mix    Red/White   \n",
       "1   2        Dog        2.000000  German Shepherd/Siberian Husky    Black/Tan   \n",
       "2   3        Cat        1.000000          Domestic Shorthair Mix  Brown Tabby   \n",
       "3   4        Dog        0.333333               Collie Smooth Mix     Tricolor   \n",
       "4   5        Dog        2.000000            Miniature Poodle Mix        White   \n",
       "\n",
       "      Sex  Neutered  Mix  \n",
       "0  female    intact  mix  \n",
       "1  female  neutered  not  \n",
       "2    male  neutered  mix  \n",
       "3    male    intact  mix  \n",
       "4    male  neutered  mix  "
      ]
     },
     "execution_count": 219,
     "metadata": {},
     "output_type": "execute_result"
    }
   ],
   "source": [
    "test.head()"
   ]
  },
  {
   "cell_type": "code",
   "execution_count": 220,
   "metadata": {
    "collapsed": true
   },
   "outputs": [],
   "source": [
    "def parse_breed(data):\n",
    "    breed_split = [s.split('/') for s in data.Breed]\n",
    "    bag_of_breeds = []\n",
    "    for l in breed_split:\n",
    "        primary_secondary_breed = []\n",
    "        for breed in l:\n",
    "            if \"Mix\" in breed:\n",
    "                breed = ' '.join(breed.split()[:-1])\n",
    "            primary_secondary_breed.append(breed)\n",
    "        if len(primary_secondary_breed) == 1:\n",
    "            if \"Mix\" in l[0]:\n",
    "                primary_secondary_breed.append(\"Unknown\")\n",
    "            else:\n",
    "                primary_secondary_breed.append(\"None\")\n",
    "        if len(primary_secondary_breed) > 2: # handles weird edge case \"Plott Hound/Black/Tan Hound\"\n",
    "            primary_secondary_breed = [primary_secondary_breed[0], \"Unknown\"]\n",
    "        bag_of_breeds.append(primary_secondary_breed)\n",
    "    return bag_of_breeds\n",
    "\n",
    "\n",
    "train_breeds = parse_breed(train)\n",
    "test_breeds = parse_breed(test)\n",
    "train['PrimaryBreed'] = [b[0] for b in train_breeds]\n",
    "train['SecondaryBreed'] = [b[1] for b in train_breeds]\n",
    "test['PrimaryBreed'] = [b[0] for b in test_breeds]\n",
    "test['SecondaryBreed'] = [b[1] for b in test_breeds]\n",
    "\n",
    "train = train.drop(\"Breed\", axis=1)\n",
    "test = test.drop(\"Breed\", axis=1)\n"
   ]
  },
  {
   "cell_type": "code",
   "execution_count": 221,
   "metadata": {
    "collapsed": false
   },
   "outputs": [
    {
     "data": {
      "text/plain": [
       "(26729, 9)"
      ]
     },
     "execution_count": 221,
     "metadata": {},
     "output_type": "execute_result"
    }
   ],
   "source": [
    "train.shape"
   ]
  },
  {
   "cell_type": "code",
   "execution_count": 222,
   "metadata": {
    "collapsed": false
   },
   "outputs": [
    {
     "data": {
      "text/plain": [
       "(11456, 9)"
      ]
     },
     "execution_count": 222,
     "metadata": {},
     "output_type": "execute_result"
    }
   ],
   "source": [
    "test.shape"
   ]
  },
  {
   "cell_type": "code",
   "execution_count": 223,
   "metadata": {
    "collapsed": false
   },
   "outputs": [
    {
     "data": {
      "text/plain": [
       "(38185, 10)"
      ]
     },
     "execution_count": 223,
     "metadata": {},
     "output_type": "execute_result"
    }
   ],
   "source": [
    "# add train and test after each other. Do the fits, separate\n",
    "combo = train.append(test)\n",
    "combo.shape"
   ]
  },
  {
   "cell_type": "code",
   "execution_count": 224,
   "metadata": {
    "collapsed": false
   },
   "outputs": [
    {
     "data": {
      "text/html": [
       "<div>\n",
       "<table border=\"1\" class=\"dataframe\">\n",
       "  <thead>\n",
       "    <tr style=\"text-align: right;\">\n",
       "      <th></th>\n",
       "      <th>AnimalID</th>\n",
       "      <th>AnimalType</th>\n",
       "      <th>AgeuponOutcome</th>\n",
       "      <th>Color</th>\n",
       "      <th>Sex</th>\n",
       "      <th>Neutered</th>\n",
       "      <th>Mix</th>\n",
       "      <th>PrimaryBreed</th>\n",
       "      <th>SecondaryBreed</th>\n",
       "    </tr>\n",
       "  </thead>\n",
       "  <tbody>\n",
       "    <tr>\n",
       "      <th>0</th>\n",
       "      <td>A671945</td>\n",
       "      <td>1</td>\n",
       "      <td>1.000000</td>\n",
       "      <td>Brown/White</td>\n",
       "      <td>0</td>\n",
       "      <td>0</td>\n",
       "      <td>0</td>\n",
       "      <td>Shetland Sheepdog</td>\n",
       "      <td>Unknown</td>\n",
       "    </tr>\n",
       "    <tr>\n",
       "      <th>1</th>\n",
       "      <td>A656520</td>\n",
       "      <td>0</td>\n",
       "      <td>1.000000</td>\n",
       "      <td>Cream Tabby</td>\n",
       "      <td>1</td>\n",
       "      <td>0</td>\n",
       "      <td>0</td>\n",
       "      <td>Domestic Shorthair</td>\n",
       "      <td>Unknown</td>\n",
       "    </tr>\n",
       "    <tr>\n",
       "      <th>2</th>\n",
       "      <td>A686464</td>\n",
       "      <td>1</td>\n",
       "      <td>2.000000</td>\n",
       "      <td>Blue/White</td>\n",
       "      <td>0</td>\n",
       "      <td>0</td>\n",
       "      <td>0</td>\n",
       "      <td>Pit Bull</td>\n",
       "      <td>Unknown</td>\n",
       "    </tr>\n",
       "    <tr>\n",
       "      <th>3</th>\n",
       "      <td>A683430</td>\n",
       "      <td>0</td>\n",
       "      <td>0.057692</td>\n",
       "      <td>Blue Cream</td>\n",
       "      <td>0</td>\n",
       "      <td>1</td>\n",
       "      <td>0</td>\n",
       "      <td>Domestic Shorthair</td>\n",
       "      <td>Unknown</td>\n",
       "    </tr>\n",
       "    <tr>\n",
       "      <th>4</th>\n",
       "      <td>A667013</td>\n",
       "      <td>1</td>\n",
       "      <td>2.000000</td>\n",
       "      <td>Tan</td>\n",
       "      <td>0</td>\n",
       "      <td>0</td>\n",
       "      <td>1</td>\n",
       "      <td>Lhasa Apso</td>\n",
       "      <td>Miniature Poodle</td>\n",
       "    </tr>\n",
       "  </tbody>\n",
       "</table>\n",
       "</div>"
      ],
      "text/plain": [
       "  AnimalID  AnimalType  AgeuponOutcome        Color  Sex  Neutered  Mix  \\\n",
       "0  A671945           1        1.000000  Brown/White    0         0    0   \n",
       "1  A656520           0        1.000000  Cream Tabby    1         0    0   \n",
       "2  A686464           1        2.000000   Blue/White    0         0    0   \n",
       "3  A683430           0        0.057692   Blue Cream    0         1    0   \n",
       "4  A667013           1        2.000000          Tan    0         0    1   \n",
       "\n",
       "         PrimaryBreed    SecondaryBreed  \n",
       "0   Shetland Sheepdog           Unknown  \n",
       "1  Domestic Shorthair           Unknown  \n",
       "2            Pit Bull           Unknown  \n",
       "3  Domestic Shorthair           Unknown  \n",
       "4          Lhasa Apso  Miniature Poodle  "
      ]
     },
     "execution_count": 224,
     "metadata": {},
     "output_type": "execute_result"
    }
   ],
   "source": [
    "# do the fits\n",
    "for var in ['AnimalType', 'Sex', 'Neutered','Mix']:\n",
    "    bin_fit = LabelBinarizer().fit(combo[var])\n",
    "    train[var] = bin_fit.transform(train[var])\n",
    "    test[var] = bin_fit.transform(test[var])\n",
    "\n",
    "train.head()\n"
   ]
  },
  {
   "cell_type": "code",
   "execution_count": 225,
   "metadata": {
    "collapsed": false
   },
   "outputs": [
    {
     "data": {
      "text/html": [
       "<div>\n",
       "<table border=\"1\" class=\"dataframe\">\n",
       "  <thead>\n",
       "    <tr style=\"text-align: right;\">\n",
       "      <th></th>\n",
       "      <th>AnimalID</th>\n",
       "      <th>AnimalType</th>\n",
       "      <th>AgeuponOutcome</th>\n",
       "      <th>Color</th>\n",
       "      <th>Sex</th>\n",
       "      <th>Neutered</th>\n",
       "      <th>Mix</th>\n",
       "      <th>PrimaryBreed</th>\n",
       "      <th>SecondaryBreed</th>\n",
       "    </tr>\n",
       "  </thead>\n",
       "  <tbody>\n",
       "    <tr>\n",
       "      <th>0</th>\n",
       "      <td>A671945</td>\n",
       "      <td>1</td>\n",
       "      <td>1.000000</td>\n",
       "      <td>146</td>\n",
       "      <td>0</td>\n",
       "      <td>0</td>\n",
       "      <td>0</td>\n",
       "      <td>191</td>\n",
       "      <td>150</td>\n",
       "    </tr>\n",
       "    <tr>\n",
       "      <th>1</th>\n",
       "      <td>A656520</td>\n",
       "      <td>0</td>\n",
       "      <td>1.000000</td>\n",
       "      <td>184</td>\n",
       "      <td>1</td>\n",
       "      <td>0</td>\n",
       "      <td>0</td>\n",
       "      <td>85</td>\n",
       "      <td>150</td>\n",
       "    </tr>\n",
       "    <tr>\n",
       "      <th>2</th>\n",
       "      <td>A686464</td>\n",
       "      <td>1</td>\n",
       "      <td>2.000000</td>\n",
       "      <td>97</td>\n",
       "      <td>0</td>\n",
       "      <td>0</td>\n",
       "      <td>0</td>\n",
       "      <td>168</td>\n",
       "      <td>150</td>\n",
       "    </tr>\n",
       "    <tr>\n",
       "      <th>3</th>\n",
       "      <td>A683430</td>\n",
       "      <td>0</td>\n",
       "      <td>0.057692</td>\n",
       "      <td>47</td>\n",
       "      <td>0</td>\n",
       "      <td>1</td>\n",
       "      <td>0</td>\n",
       "      <td>85</td>\n",
       "      <td>150</td>\n",
       "    </tr>\n",
       "    <tr>\n",
       "      <th>4</th>\n",
       "      <td>A667013</td>\n",
       "      <td>1</td>\n",
       "      <td>2.000000</td>\n",
       "      <td>311</td>\n",
       "      <td>0</td>\n",
       "      <td>0</td>\n",
       "      <td>1</td>\n",
       "      <td>134</td>\n",
       "      <td>99</td>\n",
       "    </tr>\n",
       "  </tbody>\n",
       "</table>\n",
       "</div>"
      ],
      "text/plain": [
       "  AnimalID  AnimalType  AgeuponOutcome  Color  Sex  Neutered  Mix  \\\n",
       "0  A671945           1        1.000000    146    0         0    0   \n",
       "1  A656520           0        1.000000    184    1         0    0   \n",
       "2  A686464           1        2.000000     97    0         0    0   \n",
       "3  A683430           0        0.057692     47    0         1    0   \n",
       "4  A667013           1        2.000000    311    0         0    1   \n",
       "\n",
       "   PrimaryBreed  SecondaryBreed  \n",
       "0           191             150  \n",
       "1            85             150  \n",
       "2           168             150  \n",
       "3            85             150  \n",
       "4           134              99  "
      ]
     },
     "execution_count": 225,
     "metadata": {},
     "output_type": "execute_result"
    }
   ],
   "source": [
    "for var in ['PrimaryBreed','SecondaryBreed','Color']:\n",
    "    label_fit = LabelEncoder().fit(combo[var])\n",
    "    train[var] = label_fit.transform(train[var])\n",
    "    test[var] = label_fit.transform(test[var])\n",
    "    \n",
    "    \n",
    "train.head()"
   ]
  },
  {
   "cell_type": "code",
   "execution_count": 226,
   "metadata": {
    "collapsed": false
   },
   "outputs": [
    {
     "data": {
      "text/plain": [
       "Index(['AnimalID', 'AnimalType', 'AgeuponOutcome', 'Color', 'Sex', 'Neutered',\n",
       "       'Mix', 'PrimaryBreed', 'SecondaryBreed'],\n",
       "      dtype='object')"
      ]
     },
     "execution_count": 226,
     "metadata": {},
     "output_type": "execute_result"
    }
   ],
   "source": [
    "train.columns"
   ]
  },
  {
   "cell_type": "code",
   "execution_count": 227,
   "metadata": {
    "collapsed": false
   },
   "outputs": [
    {
     "data": {
      "text/plain": [
       "'AnimalID'"
      ]
     },
     "execution_count": 227,
     "metadata": {},
     "output_type": "execute_result"
    }
   ],
   "source": [
    "train.columns[0]"
   ]
  },
  {
   "cell_type": "code",
   "execution_count": 228,
   "metadata": {
    "collapsed": false,
    "scrolled": true
   },
   "outputs": [
    {
     "data": {
      "text/plain": [
       "Index(['AnimalType', 'AgeuponOutcome', 'Color', 'Sex', 'Neutered', 'Mix',\n",
       "       'PrimaryBreed', 'SecondaryBreed'],\n",
       "      dtype='object')"
      ]
     },
     "execution_count": 228,
     "metadata": {},
     "output_type": "execute_result"
    }
   ],
   "source": [
    "train.columns[1:]"
   ]
  },
  {
   "cell_type": "code",
   "execution_count": 231,
   "metadata": {
    "collapsed": false
   },
   "outputs": [
    {
     "data": {
      "text/plain": [
       "GridSearchCV(cv=None, error_score='raise',\n",
       "       estimator=DecisionTreeClassifier(class_weight=None, criterion='gini', max_depth=None,\n",
       "            max_features=None, max_leaf_nodes=None, min_samples_leaf=1,\n",
       "            min_samples_split=2, min_weight_fraction_leaf=0.0,\n",
       "            presort=False, random_state=None, splitter='best'),\n",
       "       fit_params={}, iid=True, n_jobs=-1,\n",
       "       param_grid={'max_depth': [4, 5, 6, 7, 8, 9, 10, 12], 'min_samples_leaf': [1, 2, 5, 8, 12, 15, 20], 'min_samples_split': [2, 5, 10, 15, 20, 25]},\n",
       "       pre_dispatch='2*n_jobs', refit=True, scoring='log_loss', verbose=0)"
      ]
     },
     "execution_count": 231,
     "metadata": {},
     "output_type": "execute_result"
    }
   ],
   "source": [
    "'''clf = DecisionTreeClassifier(max_depth=5, min_samples_leaf=5, min_samples_split=25)\n",
    "clf.fit(train[train.columns[1:]], y)\n",
    "clf.score(train[train.columns[1:]], y)\n",
    "'''\n",
    "# here is where the model training happens\n",
    "# slow possibly comment it out while trying stuff!#\n",
    "\n",
    "clf = GridSearchCV(DecisionTreeClassifier(), param_grid={'max_depth':[4,5,6,7,8,9,10,12],\n",
    "                                                        'min_samples_split':[2, 5, 10, 15, 20, 25],\n",
    "                                                        'min_samples_leaf':[1, 2, 5, 8, 12, 15, 20]},\n",
    "                  scoring='log_loss',\n",
    "                  n_jobs=-1)\n",
    "clf.fit(train[train.columns[1:]], y)"
   ]
  },
  {
   "cell_type": "code",
   "execution_count": 232,
   "metadata": {
    "collapsed": true
   },
   "outputs": [],
   "source": [
    "class_probabilites = clf.predict_proba(test[test.columns[1:]])\n",
    "''' this gets 0.78401 on the submission leader board'''"
   ]
  },
  {
   "cell_type": "code",
   "execution_count": 233,
   "metadata": {
    "collapsed": false
   },
   "outputs": [],
   "source": [
    "submission = 'ID,Adoption,Died,Euthanasia,Return_to_owner,Transfer\\n'\n",
    "for i in range(len(test.ID)):\n",
    "    submission += str(test.ID[i]) + ',' + ','.join([str(j) for j in class_probabilites[i]]) + '\\n'\n",
    "f = open(\"submissionGridSearch.csv\", \"w\")\n",
    "f.write(submission)\n",
    "f.close()"
   ]
  },
  {
   "cell_type": "code",
   "execution_count": null,
   "metadata": {
    "collapsed": true
   },
   "outputs": [],
   "source": []
  },
  {
   "cell_type": "code",
   "execution_count": null,
   "metadata": {
    "collapsed": false
   },
   "outputs": [],
   "source": []
  },
  {
   "cell_type": "code",
   "execution_count": null,
   "metadata": {
    "collapsed": true
   },
   "outputs": [],
   "source": []
  }
 ],
 "metadata": {
  "kernelspec": {
   "display_name": "Python 3",
   "language": "python",
   "name": "python3"
  },
  "language_info": {
   "codemirror_mode": {
    "name": "ipython",
    "version": 3
   },
   "file_extension": ".py",
   "mimetype": "text/x-python",
   "name": "python",
   "nbconvert_exporter": "python",
   "pygments_lexer": "ipython3",
   "version": "3.4.4"
  }
 },
 "nbformat": 4,
 "nbformat_minor": 0
}
