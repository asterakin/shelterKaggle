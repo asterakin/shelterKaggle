{
 "cells": [
  {
   "cell_type": "code",
   "execution_count": 28,
   "metadata": {
    "collapsed": false
   },
   "outputs": [
    {
     "data": {
      "text/html": [
       "<div style=\"max-height:1000px;max-width:1500px;overflow:auto;\">\n",
       "<table border=\"1\" class=\"dataframe\">\n",
       "  <thead>\n",
       "    <tr style=\"text-align: right;\">\n",
       "      <th></th>\n",
       "      <th>AnimalType</th>\n",
       "      <th>AgeuponOutcome</th>\n",
       "      <th>Breed</th>\n",
       "      <th>Color</th>\n",
       "      <th>Sex</th>\n",
       "      <th>Neutered</th>\n",
       "      <th>Mix</th>\n",
       "    </tr>\n",
       "  </thead>\n",
       "  <tbody>\n",
       "    <tr>\n",
       "      <th>0</th>\n",
       "      <td> Dog</td>\n",
       "      <td> 1.000000</td>\n",
       "      <td>       Shetland Sheepdog Mix</td>\n",
       "      <td> Brown/White</td>\n",
       "      <td>   male</td>\n",
       "      <td> neutered</td>\n",
       "      <td> mix</td>\n",
       "    </tr>\n",
       "    <tr>\n",
       "      <th>1</th>\n",
       "      <td> Cat</td>\n",
       "      <td> 1.000000</td>\n",
       "      <td>      Domestic Shorthair Mix</td>\n",
       "      <td> Cream Tabby</td>\n",
       "      <td> female</td>\n",
       "      <td> neutered</td>\n",
       "      <td> mix</td>\n",
       "    </tr>\n",
       "    <tr>\n",
       "      <th>2</th>\n",
       "      <td> Dog</td>\n",
       "      <td> 2.000000</td>\n",
       "      <td>                Pit Bull Mix</td>\n",
       "      <td>  Blue/White</td>\n",
       "      <td>   male</td>\n",
       "      <td> neutered</td>\n",
       "      <td> mix</td>\n",
       "    </tr>\n",
       "    <tr>\n",
       "      <th>3</th>\n",
       "      <td> Cat</td>\n",
       "      <td> 0.057692</td>\n",
       "      <td>      Domestic Shorthair Mix</td>\n",
       "      <td>  Blue Cream</td>\n",
       "      <td>   male</td>\n",
       "      <td>   intact</td>\n",
       "      <td> mix</td>\n",
       "    </tr>\n",
       "    <tr>\n",
       "      <th>4</th>\n",
       "      <td> Dog</td>\n",
       "      <td> 2.000000</td>\n",
       "      <td> Lhasa Apso/Miniature Poodle</td>\n",
       "      <td>         Tan</td>\n",
       "      <td>   male</td>\n",
       "      <td> neutered</td>\n",
       "      <td> not</td>\n",
       "    </tr>\n",
       "  </tbody>\n",
       "</table>\n",
       "</div>"
      ],
      "text/plain": [
       "  AnimalType  AgeuponOutcome                        Breed        Color  \\\n",
       "0        Dog        1.000000        Shetland Sheepdog Mix  Brown/White   \n",
       "1        Cat        1.000000       Domestic Shorthair Mix  Cream Tabby   \n",
       "2        Dog        2.000000                 Pit Bull Mix   Blue/White   \n",
       "3        Cat        0.057692       Domestic Shorthair Mix   Blue Cream   \n",
       "4        Dog        2.000000  Lhasa Apso/Miniature Poodle          Tan   \n",
       "\n",
       "      Sex  Neutered  Mix  \n",
       "0    male  neutered  mix  \n",
       "1  female  neutered  mix  \n",
       "2    male  neutered  mix  \n",
       "3    male    intact  mix  \n",
       "4    male  neutered  not  "
      ]
     },
     "execution_count": 28,
     "metadata": {},
     "output_type": "execute_result"
    }
   ],
   "source": [
    "import pandas as pd\n",
    "'''import seaborn as sns\n",
    "import numpy as np\n",
    "from sklearn.cross_validation import train_test_split\n",
    "from sklearn.grid_search import GridSearchCV\n",
    "from sklearn.tree import DecisionTreeClassifier\n",
    "from sklearn.preprocessing import LabelEncoder, LabelBinarizer, Imputer, OneHotEncoder'''\n",
    "\n",
    "\n",
    "def get_sex(x):\n",
    "    x = str(x)\n",
    "    if x.find('Male') >= 0: return 'male'\n",
    "    if x.find('Female') >= 0: return 'female'\n",
    "    return 'unknown'\n",
    "\n",
    "def get_neutered(x):\n",
    "    x = str(x)\n",
    "    if x.find('Spayed') >= 0: return 'neutered'\n",
    "    if x.find('Neutered') >= 0: return 'neutered'\n",
    "    if x.find('Intact') >= 0: return 'intact'\n",
    "    return 'unknown'\n",
    "\n",
    "\n",
    "def get_mix(x):\n",
    "    x = str(x)\n",
    "    if x.find('Mix') >=0 :\n",
    "        return 'mix'\n",
    "    return 'not'\n",
    "\n",
    "def calc_age_in_years(x):\n",
    "    x = str(x)\n",
    "    if x == 'nan': return 0\n",
    "    age = int(x.split()[0]) # split with space, get number\n",
    "    if x.find('year')> -1: return age\n",
    "    if x.find('month')> -1: return age/12\n",
    "    if x.find('week') > -1 : return age/52\n",
    "    if x.find('day') > -1 : return age/365\n",
    "    else : return 0\n",
    "\n",
    "def prepareData(train):\n",
    "    train['Sex'] = train.SexuponOutcome.apply(get_sex)\n",
    "    train['Neutered'] = train.SexuponOutcome.apply(get_neutered)\n",
    "    train['Mix'] = train.Breed.apply(get_mix)\n",
    "    train['AgeuponOutcome'] = train.AgeuponOutcome.apply(calc_age_in_years)\n",
    "    return train\n",
    "\n",
    "\n",
    "train = pd.read_csv('train.csv')\n",
    "test = pd.read_csv('test.csv')\n",
    "\n",
    "\n",
    "train = prepareData(train)\n",
    "test = prepareData(test)\n",
    "\n",
    "y = train.OutcomeType\n",
    "train.drop([\"Name\", \"OutcomeType\", \"OutcomeSubtype\",\"SexuponOutcome\",\"DateTime\",\"AnimalID\"], axis=1, inplace=True)\n",
    "test.drop([\"Name\", \"SexuponOutcome\",\"DateTime\",\"ID\"], axis=1, inplace=True)\n",
    "\n",
    "\n",
    "train.head()\n"
   ]
  },
  {
   "cell_type": "code",
   "execution_count": 29,
   "metadata": {
    "collapsed": false
   },
   "outputs": [
    {
     "data": {
      "text/html": [
       "<div style=\"max-height:1000px;max-width:1500px;overflow:auto;\">\n",
       "<table border=\"1\" class=\"dataframe\">\n",
       "  <thead>\n",
       "    <tr style=\"text-align: right;\">\n",
       "      <th></th>\n",
       "      <th>AnimalType</th>\n",
       "      <th>AgeuponOutcome</th>\n",
       "      <th>Breed</th>\n",
       "      <th>Color</th>\n",
       "      <th>Sex</th>\n",
       "      <th>Neutered</th>\n",
       "      <th>Mix</th>\n",
       "    </tr>\n",
       "  </thead>\n",
       "  <tbody>\n",
       "    <tr>\n",
       "      <th>0</th>\n",
       "      <td> Dog</td>\n",
       "      <td> 0.833333</td>\n",
       "      <td>         Labrador Retriever Mix</td>\n",
       "      <td>   Red/White</td>\n",
       "      <td> female</td>\n",
       "      <td>   intact</td>\n",
       "      <td> mix</td>\n",
       "    </tr>\n",
       "    <tr>\n",
       "      <th>1</th>\n",
       "      <td> Dog</td>\n",
       "      <td> 2.000000</td>\n",
       "      <td> German Shepherd/Siberian Husky</td>\n",
       "      <td>   Black/Tan</td>\n",
       "      <td> female</td>\n",
       "      <td> neutered</td>\n",
       "      <td> not</td>\n",
       "    </tr>\n",
       "    <tr>\n",
       "      <th>2</th>\n",
       "      <td> Cat</td>\n",
       "      <td> 1.000000</td>\n",
       "      <td>         Domestic Shorthair Mix</td>\n",
       "      <td> Brown Tabby</td>\n",
       "      <td>   male</td>\n",
       "      <td> neutered</td>\n",
       "      <td> mix</td>\n",
       "    </tr>\n",
       "    <tr>\n",
       "      <th>3</th>\n",
       "      <td> Dog</td>\n",
       "      <td> 0.333333</td>\n",
       "      <td>              Collie Smooth Mix</td>\n",
       "      <td>    Tricolor</td>\n",
       "      <td>   male</td>\n",
       "      <td>   intact</td>\n",
       "      <td> mix</td>\n",
       "    </tr>\n",
       "    <tr>\n",
       "      <th>4</th>\n",
       "      <td> Dog</td>\n",
       "      <td> 2.000000</td>\n",
       "      <td>           Miniature Poodle Mix</td>\n",
       "      <td>       White</td>\n",
       "      <td>   male</td>\n",
       "      <td> neutered</td>\n",
       "      <td> mix</td>\n",
       "    </tr>\n",
       "  </tbody>\n",
       "</table>\n",
       "</div>"
      ],
      "text/plain": [
       "  AnimalType  AgeuponOutcome                           Breed        Color  \\\n",
       "0        Dog        0.833333          Labrador Retriever Mix    Red/White   \n",
       "1        Dog        2.000000  German Shepherd/Siberian Husky    Black/Tan   \n",
       "2        Cat        1.000000          Domestic Shorthair Mix  Brown Tabby   \n",
       "3        Dog        0.333333               Collie Smooth Mix     Tricolor   \n",
       "4        Dog        2.000000            Miniature Poodle Mix        White   \n",
       "\n",
       "      Sex  Neutered  Mix  \n",
       "0  female    intact  mix  \n",
       "1  female  neutered  not  \n",
       "2    male  neutered  mix  \n",
       "3    male    intact  mix  \n",
       "4    male  neutered  mix  "
      ]
     },
     "execution_count": 29,
     "metadata": {},
     "output_type": "execute_result"
    }
   ],
   "source": [
    "test.head()"
   ]
  },
  {
   "cell_type": "code",
   "execution_count": 30,
   "metadata": {
    "collapsed": false
   },
   "outputs": [
    {
     "data": {
      "text/plain": [
       "(26729, 7)"
      ]
     },
     "execution_count": 30,
     "metadata": {},
     "output_type": "execute_result"
    }
   ],
   "source": [
    "train.shape"
   ]
  },
  {
   "cell_type": "code",
   "execution_count": 31,
   "metadata": {
    "collapsed": false
   },
   "outputs": [
    {
     "data": {
      "text/plain": [
       "(11456, 7)"
      ]
     },
     "execution_count": 31,
     "metadata": {},
     "output_type": "execute_result"
    }
   ],
   "source": [
    "test.shape"
   ]
  },
  {
   "cell_type": "code",
   "execution_count": 34,
   "metadata": {
    "collapsed": false
   },
   "outputs": [
    {
     "data": {
      "text/plain": [
       "(26729, 7)"
      ]
     },
     "execution_count": 34,
     "metadata": {},
     "output_type": "execute_result"
    }
   ],
   "source": [
    "# add train and test after each other. Do the fits, separate\n",
    "\n",
    "# do the fits\n",
    "\n",
    "train.append(test)\n",
    "train.shape"
   ]
  }
 ],
 "metadata": {
  "kernelspec": {
   "display_name": "Python 3",
   "language": "python",
   "name": "python3"
  },
  "language_info": {
   "codemirror_mode": {
    "name": "ipython",
    "version": 3
   },
   "file_extension": ".py",
   "mimetype": "text/x-python",
   "name": "python",
   "nbconvert_exporter": "python",
   "pygments_lexer": "ipython3",
   "version": "3.4.4"
  }
 },
 "nbformat": 4,
 "nbformat_minor": 0
}
